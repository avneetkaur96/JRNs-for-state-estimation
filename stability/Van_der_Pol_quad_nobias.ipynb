{
 "cells": [
  {
   "cell_type": "markdown",
   "metadata": {
    "id": "4kEj-BFnmH37"
   },
   "source": [
    "# Verifying ISS for Van der Pol"
   ]
  },
  {
   "cell_type": "code",
   "execution_count": 43,
   "metadata": {
    "executionInfo": {
     "elapsed": 785,
     "status": "ok",
     "timestamp": 1652561935247,
     "user": {
      "displayName": "Zhou Ruikun",
      "userId": "16546965067278251021"
     },
     "user_tz": 240
    },
    "id": "e9EDzAWmmH38"
   },
   "outputs": [],
   "source": [
    "from dreal import *\n",
    "import torch \n",
    "import torch.nn.functional as F\n",
    "import torch.nn as nn\n",
    "import numpy as np\n",
    "import timeit"
   ]
  },
  {
   "cell_type": "code",
   "execution_count": 44,
   "metadata": {},
   "outputs": [],
   "source": [
    "device = 'cuda' if torch.cuda.is_available() else 'cpu'"
   ]
  },
  {
   "cell_type": "code",
   "execution_count": 45,
   "metadata": {},
   "outputs": [],
   "source": [
    "Wxh = torch.tensor([[-9.5067e-03, -2.9041e-01, -4.0580e-02,  2.4071e-01, -1.4251e-01,\n",
    "         -1.0822e-02, -1.2239e-01, -3.7640e-02, -1.8971e-01, -1.3107e-01,\n",
    "          1.5422e-01, -1.4377e-01,  5.7402e-02, -1.3769e-01, -1.5478e-01,\n",
    "         -1.6708e-01,  9.7897e-02,  1.9257e-01,  1.9275e-01, -6.3298e-02,\n",
    "         -4.7150e-02, -4.0344e-02, -1.3798e-01,  1.5912e-01,  4.5495e-01,\n",
    "          4.2589e-02, -7.0627e-02, -5.3789e-02,  3.1625e-01,  1.0299e-01,\n",
    "          2.5361e-01,  2.1616e-01, -1.3778e-01, -1.3580e-01,  3.4560e-01,\n",
    "          4.0315e-04,  7.0986e-02,  2.5969e-03,  1.9089e-01, -7.2416e-02,\n",
    "         -1.6113e-01, -3.4396e-04, -3.1674e-01,  7.1292e-03,  1.4011e-01,\n",
    "          1.4188e-01,  6.5678e-02, -1.1225e-01, -1.9225e-01, -8.2564e-02]])\n",
    "\n",
    "Wyh = torch.tensor([[-0.0007,  0.0332,  0.1445, -0.0146,  0.0273,  0.1453,  0.0431, -0.0972,\n",
    "         -0.2054,  0.0755,  0.0114, -0.0018,  0.0503,  0.3072,  0.0353,  0.1028,\n",
    "          0.1088, -0.1427,  0.0509,  0.1037,  0.2466,  0.0837,  0.0231, -0.1051,\n",
    "          0.0818, -0.3215, -0.0154, -0.1580,  0.0683,  0.1135, -0.0975, -0.2977,\n",
    "          0.0460,  0.1742, -0.0172, -0.1570, -0.0409,  0.1050,  0.2083, -0.2550,\n",
    "          0.1759,  0.0757, -0.1625, -0.2148,  0.1129,  0.1867,  0.0089,  0.0467,\n",
    "          0.0605,  0.0990],\n",
    "        [-0.0152, -0.2159,  0.1155,  0.2393, -0.0015, -0.1948, -0.2003,  0.1365,\n",
    "         -0.0186,  0.2299, -0.0241, -0.1349,  0.0068,  0.1141, -0.0447,  0.3055,\n",
    "         -0.1087,  0.0789,  0.0415,  0.2154, -0.2396, -0.1974, -0.2680,  0.0745,\n",
    "         -0.2525, -0.1764,  0.0788,  0.0249,  0.0878, -0.2018,  0.0510, -0.1677,\n",
    "         -0.2099,  0.0636, -0.1708, -0.3602, -0.0042,  0.0540, -0.0678, -0.0476,\n",
    "          0.2781, -0.0598,  0.2447, -0.2117, -0.0538, -0.0005,  0.1361,  0.0912,\n",
    "          0.0329, -0.0036]])\n",
    "\n",
    "Why = torch.tensor([[ 0.1219,  0.1364],\n",
    "        [-0.1581, -0.1068],\n",
    "        [-0.1600,  0.2605],\n",
    "        [ 0.0670,  0.3503],\n",
    "        [ 0.1937, -0.3129],\n",
    "        [-0.2641, -0.2599],\n",
    "        [-0.3156, -0.0964],\n",
    "        [ 0.1150, -0.0460],\n",
    "        [-0.3127, -0.0052],\n",
    "        [-0.0595,  0.2396],\n",
    "        [ 0.1932, -0.0625],\n",
    "        [-0.1550, -0.3040],\n",
    "        [ 0.1551,  0.2469],\n",
    "        [ 0.1148, -0.1878],\n",
    "        [-0.2682, -0.2543],\n",
    "        [-0.4305,  0.3332],\n",
    "        [-0.2195, -0.0349],\n",
    "        [ 0.4093, -0.1235],\n",
    "        [ 0.0746, -0.1744],\n",
    "        [-0.0824,  0.1665],\n",
    "        [-0.1394,  0.1720],\n",
    "        [ 0.2181, -0.2484],\n",
    "        [-0.2441, -0.2886],\n",
    "        [ 0.2520, -0.0159],\n",
    "        [ 0.1096, -0.1628],\n",
    "        [-0.2447,  0.2653],\n",
    "        [-0.1827,  0.1075],\n",
    "        [-0.1096,  0.0172],\n",
    "        [ 0.3009, -0.2500],\n",
    "        [-0.1583,  0.0340],\n",
    "        [ 0.2361,  0.0605],\n",
    "        [ 0.0801, -0.3472],\n",
    "        [ 0.0971, -0.0966],\n",
    "        [-0.2295,  0.0743],\n",
    "        [ 0.0881, -0.0453],\n",
    "        [ 0.0989, -0.3131],\n",
    "        [-0.0637,  0.0199],\n",
    "        [-0.1555, -0.1842],\n",
    "        [ 0.3589,  0.0952],\n",
    "        [-0.1280, -0.2346],\n",
    "        [-0.2592,  0.0848],\n",
    "        [ 0.2780, -0.1763],\n",
    "        [-0.4384,  0.3176],\n",
    "        [ 0.0281, -0.3298],\n",
    "        [-0.2543,  0.1560],\n",
    "        [ 0.3974,  0.2545],\n",
    "        [ 0.2902,  0.2500],\n",
    "        [ 0.1613,  0.2591],\n",
    "        [-0.0457,  0.2885],\n",
    "        [ 0.0790, -0.2781]])"
   ]
  },
  {
   "cell_type": "code",
   "execution_count": 46,
   "metadata": {},
   "outputs": [],
   "source": [
    "W1 = Wxh\n",
    "W2 = Wyh\n",
    "W3 = Why\n",
    "\n",
    "H = torch.tensor([[1., 0.]],dtype = torch.float32)\n"
   ]
  },
  {
   "cell_type": "code",
   "execution_count": 47,
   "metadata": {},
   "outputs": [
    {
     "data": {
      "text/plain": [
       "torch.return_types.linalg_eig(\n",
       "eigenvalues=tensor([0.0382+0.j, 0.9107+0.j]),\n",
       "eigenvectors=tensor([[-0.9724+0.j,  0.0157+0.j],\n",
       "        [ 0.2333+0.j, -0.9999+0.j]]))"
      ]
     },
     "execution_count": 47,
     "metadata": {},
     "output_type": "execute_result"
    }
   ],
   "source": [
    "linear = (W2@W3).T\n",
    "torch.linalg.eig(linear)"
   ]
  },
  {
   "cell_type": "markdown",
   "metadata": {
    "id": "-ABa4JuimH39"
   },
   "source": [
    "## The dynamical system and the error system"
   ]
  },
  {
   "cell_type": "code",
   "execution_count": 48,
   "metadata": {
    "executionInfo": {
     "elapsed": 148,
     "status": "ok",
     "timestamp": 1652562040358,
     "user": {
      "displayName": "Zhou Ruikun",
      "userId": "16546965067278251021"
     },
     "user_tz": 240
    },
    "id": "Yz7R7cTv71Fy"
   },
   "outputs": [],
   "source": [
    "# Parameters\n",
    "h = 0.1\n",
    "def f_value(x):\n",
    "    y = torch.zeros_like(x)\n",
    "    y[:,0] = x[:,0] - h*x[:,1]\n",
    "    y[:,1] = x[:,1] + h*(x[:,0] + x[:,1]*(x[:,0]**2 - 1))\n",
    "    return y"
   ]
  },
  {
   "cell_type": "code",
   "execution_count": 49,
   "metadata": {},
   "outputs": [],
   "source": [
    "def e_value(x,e):\n",
    "    x_next = f_value(x)\n",
    "    y = torch.tanh(x_next@H.T@W1 + x@W2 + e@W2)@W3 - x_next\n",
    "    return y"
   ]
  },
  {
   "cell_type": "markdown",
   "metadata": {
    "id": "3CfzCAkTmH4C"
   },
   "source": [
    "## Neural network model for Lyapunov function V"
   ]
  },
  {
   "cell_type": "code",
   "execution_count": 50,
   "metadata": {},
   "outputs": [],
   "source": [
    "torch.manual_seed(42)  \n",
    "\n",
    "class Net(torch.nn.Module):\n",
    "    \n",
    "    def __init__(self,n_input,n_hidden,n_output):\n",
    "        super(Net, self).__init__()\n",
    "        self.hidden = nn.Linear(n_input, n_hidden, bias=False)\n",
    "        self.output = nn.Linear(n_hidden,n_output, bias=False)\n",
    "        self.to(device) \n",
    "        \n",
    "    def forward(self,x):\n",
    "        # Apply the square activation function\n",
    "        x = self.hidden(x).pow(2)\n",
    "        x = self.output(x).pow(2)\n",
    "        return x"
   ]
  },
  {
   "cell_type": "code",
   "execution_count": 51,
   "metadata": {},
   "outputs": [],
   "source": [
    "def CheckLyapunov(e,x, V, V_next, config, epsilon):    \n",
    "    x_ball= Expression(0)\n",
    "    e_ball= Expression(0)\n",
    "    V_difference = Expression(0)\n",
    "    \n",
    "    for i in range(len(x)):\n",
    "        x_ball += x[i]*x[i]\n",
    "        e_ball += e[i]*e[i]\n",
    "\n",
    "    V_difference = V_next - V  - gamma*x_ball + alpha3*e_ball\n",
    "    x_bound = logical_and(x_ball_lb**2 <= x_ball, x_ball <= x_ball_ub**2)\n",
    "    e_bound = logical_and(e_ball_lb**2<= e_ball, e_ball <= e_ball_ub**2)\n",
    "    ball_in_bound = logical_and(x_bound, e_bound)\n",
    "    V_positive = logical_and(V - alpha1*e_ball >= 0 , alpha2*e_ball - V >= 0)   \n",
    "    condition = logical_imply(ball_in_bound, V_positive)\n",
    "\n",
    "    condition = logical_and(condition,\n",
    "                           logical_imply(ball_in_bound, V_difference <= epsilon))\n",
    "                           \n",
    "    return CheckSatisfiability(logical_not(condition),config)"
   ]
  },
  {
   "cell_type": "code",
   "execution_count": 52,
   "metadata": {},
   "outputs": [],
   "source": [
    "def AddCounterexamples(x,CE,N): \n",
    "    c = []\n",
    "    nearby= []\n",
    "    for i in range(CE.size()):\n",
    "        c.append(CE[i].mid())\n",
    "        lb = CE[i].lb()\n",
    "        ub = CE[i].ub()\n",
    "        nearby_ = np.random.uniform(lb,ub,N)\n",
    "        nearby.append(nearby_)\n",
    "    for i in range(N):\n",
    "        n_pt = []\n",
    "        for j in range(x.shape[1]):\n",
    "            n_pt.append(nearby[j][i])             \n",
    "        x = torch.cat((x, torch.tensor([n_pt])), 0)\n",
    "    return x"
   ]
  },
  {
   "cell_type": "markdown",
   "metadata": {
    "id": "ll1sstmomH4D"
   },
   "source": [
    "## Parameters"
   ]
  },
  {
   "cell_type": "code",
   "execution_count": 53,
   "metadata": {
    "id": "WaAJWAmSmH4D"
   },
   "outputs": [],
   "source": [
    "'''\n",
    "For learning \n",
    "'''\n",
    "r_e = 2.\n",
    "r = 1.\n",
    "N = 1000            # sample size\n",
    "D_in = 2            # input dimension\n",
    "H1 = 10              # hidden dimension\n",
    "D_out = 1           # output dimension\n",
    "\n",
    "x = torch.Tensor(N, D_in).uniform_(-r, r)\n",
    "e = torch.Tensor(N, D_in).uniform_(-r, r)              \n",
    "e_0 = torch.zeros([1, 2])\n",
    "e_0 = e_0.to(device)\n",
    "\n",
    "'''\n",
    "For verifying \n",
    "'''\n",
    "e1 = Variable(\"e1\")\n",
    "e2 = Variable(\"e2\")\n",
    "x1 = Variable(\"x1\")\n",
    "x2 = Variable(\"x2\")\n",
    "x_ = [x1,x2]\n",
    "e_ = [e1,e2]\n",
    "config = Config()\n",
    "config.use_polytope_in_forall = True\n",
    "config.use_local_optimization = True\n",
    "config.precision = 1e-3\n",
    "config.number_of_jobs = 6\n",
    "beta = 0. \n",
    "# Checking candidate V within a ball around the origin (ball_lb ≤ sqrt(∑xᵢ²) ≤ ball_ub)\n",
    "x_ball_lb = 0.5\n",
    "x_ball_ub = r\n",
    "e_ball_lb = 0.5\n",
    "e_ball_ub = r_e\n",
    "\n",
    "# for verification of ISS Lyapunov conditions\n",
    "alpha1 = 1e-3\n",
    "alpha2 = 1000.\n",
    "alpha3 = alpha1\n",
    "gamma = 1000."
   ]
  },
  {
   "cell_type": "code",
   "execution_count": 54,
   "metadata": {},
   "outputs": [],
   "source": [
    "\n",
    "f_ex = [x1 - x2*h, x2 + h*(x1 + x2*(x1**2 - 1))]\n",
    "\n",
    "hidden_part = np.dot(f_ex, np.dot(H.T,W1)) + np.dot(x_, W2) + np.dot(e_, W2) \n",
    "\n",
    "hidden = []\n",
    "for j in range(len(hidden_part)):\n",
    "    hidden.append(tanh(hidden_part[j]))\n",
    "\n",
    "xn_hat = np.dot(hidden, W3)\n",
    "\n",
    "e_next_ex = []\n",
    "for i in range(len(xn_hat)):\n",
    "    e_next_ex.append(xn_hat[i] - f_ex[i])\n"
   ]
  },
  {
   "cell_type": "markdown",
   "metadata": {
    "id": "Z-vy4z21mH4D"
   },
   "source": [
    "## Learning and Falsification"
   ]
  },
  {
   "cell_type": "code",
   "execution_count": 55,
   "metadata": {
    "colab": {
     "base_uri": "https://localhost:8080/"
    },
    "executionInfo": {
     "elapsed": 42438,
     "status": "ok",
     "timestamp": 1652482358200,
     "user": {
      "displayName": "Zhou Ruikun",
      "userId": "16546965067278251021"
     },
     "user_tz": 240
    },
    "id": "rvQBaISPmH4D",
    "outputId": "f223c95e-6812-40c8-dd51-cffe63a36a81",
    "scrolled": true
   },
   "outputs": [
    {
     "name": "stdout",
     "output_type": "stream",
     "text": [
      "0 Lyapunov Risk= 1.3401954174041748\n",
      "1 Lyapunov Risk= 1.3120830059051514\n",
      "2 Lyapunov Risk= 1.2764601707458496\n",
      "3 Lyapunov Risk= 1.2387266159057617\n",
      "4 Lyapunov Risk= 1.2031580209732056\n",
      "5 Lyapunov Risk= 1.1712918281555176\n",
      "6 Lyapunov Risk= 1.1401021480560303\n",
      "7 Lyapunov Risk= 1.1113855838775635\n",
      "8 Lyapunov Risk= 1.0843292474746704\n",
      "9 Lyapunov Risk= 1.0587995052337646\n",
      "10 Lyapunov Risk= 1.0368229150772095\n",
      "11 Lyapunov Risk= 1.0140231847763062\n",
      "12 Lyapunov Risk= 0.9906499981880188\n",
      "13 Lyapunov Risk= 0.966809868812561\n",
      "14 Lyapunov Risk= 0.9453310966491699\n",
      "15 Lyapunov Risk= 0.9225257635116577\n",
      "16 Lyapunov Risk= 0.9010546207427979\n",
      "17 Lyapunov Risk= 0.8839931488037109\n",
      "18 Lyapunov Risk= 0.8692367076873779\n",
      "19 Lyapunov Risk= 0.8555648922920227\n",
      "20 Lyapunov Risk= 0.843010663986206\n",
      "21 Lyapunov Risk= 0.8294898867607117\n",
      "22 Lyapunov Risk= 0.8168811202049255\n",
      "23 Lyapunov Risk= 0.8043805956840515\n",
      "24 Lyapunov Risk= 0.7929801344871521\n",
      "25 Lyapunov Risk= 0.7834469079971313\n",
      "26 Lyapunov Risk= 0.7756199836730957\n",
      "27 Lyapunov Risk= 0.7691158056259155\n",
      "28 Lyapunov Risk= 0.7635459303855896\n",
      "29 Lyapunov Risk= 0.7582094669342041\n",
      "30 Lyapunov Risk= 0.752987265586853\n",
      "31 Lyapunov Risk= 0.7476664781570435\n",
      "32 Lyapunov Risk= 0.742853045463562\n",
      "33 Lyapunov Risk= 0.7386484742164612\n",
      "34 Lyapunov Risk= 0.734878420829773\n",
      "35 Lyapunov Risk= 0.731192946434021\n",
      "36 Lyapunov Risk= 0.7274048924446106\n",
      "37 Lyapunov Risk= 0.724018931388855\n",
      "38 Lyapunov Risk= 0.7218347191810608\n",
      "39 Lyapunov Risk= 0.7197202444076538\n",
      "40 Lyapunov Risk= 0.7181042432785034\n",
      "41 Lyapunov Risk= 0.716583251953125\n",
      "42 Lyapunov Risk= 0.7150073051452637\n",
      "43 Lyapunov Risk= 0.7134525775909424\n",
      "44 Lyapunov Risk= 0.7120468616485596\n",
      "45 Lyapunov Risk= 0.7108007669448853\n",
      "46 Lyapunov Risk= 0.7095834016799927\n",
      "47 Lyapunov Risk= 0.7083660960197449\n",
      "48 Lyapunov Risk= 0.7071290016174316\n",
      "49 Lyapunov Risk= 0.7061113715171814\n",
      "===========Verifying==========\n",
      "Satisfy conditions with beta =  0.0\n",
      "pow(( - 0.671188 * pow(( - 0.671188 * e1 + 0.0392232 * e2), 2) - 0.555616 * pow(( - 0.555616 * e1 - 0.365834 * e2), 2) - 0.423322 * pow(( - 0.423322 * e1 + 0.0451749 * e2), 2) - 0.102747 * pow(( - 0.102747 * e1 + 0.402148 * e2), 2) + 0.198142 * pow((0.198142 * e1 - 0.679823 * e2), 2) + 0.31247 * pow((0.31247 * e1 - 0.6843 * e2), 2) + 0.487339 * pow((0.487339 * e1 - 0.118374 * e2), 2) + 0.517278 * pow((0.517278 * e1 + 0.240442 * e2), 2) + 0.58017 * pow((0.58017 * e1 + 0.117523 * e2), 2) + 0.740158 * pow((0.740158 * e1 + 0.1556 * e2), 2)), 2)  is a Lyapunov function.\n",
      "==============================\n",
      "\n",
      "\n",
      "Total time:  9.18492561700009\n",
      "Verified time:  9.014742456000022\n"
     ]
    }
   ],
   "source": [
    "out_iters = 0\n",
    "valid = False\n",
    "while out_iters < 2 and not valid: \n",
    "    start = timeit.default_timer()\n",
    "    model = Net(D_in,H1, D_out)\n",
    "    L = []\n",
    "    i = 0 \n",
    "    t = 0\n",
    "    max_iters = 5000 # increase number of epoches if cannot find a valid LF\n",
    "    learning_rate = 0.001\n",
    "    optimizer = torch.optim.Adam(model.parameters(), lr=learning_rate)\n",
    "\n",
    "    while i < max_iters and not valid: \n",
    "        x = x.float()\n",
    "        e = e.float()\n",
    "        x = x.to(device)\n",
    "        e = e.to(device)\n",
    "        V_candidate = model(e)\n",
    "        \n",
    "        # e0 = model(e_0)\n",
    "        f = f_value(x)\n",
    "        e_next = e_value(x,e)\n",
    "        V_next = model(e_next)\n",
    "        V_difference = V_next - V_candidate + alpha3*e**2 - gamma*x**2\n",
    "        Lyapunov_risk = torch.sum(10.*F.relu(-V_candidate) + 5.*F.relu(-V_candidate + alpha1*x**2) + F.relu(V_candidate - alpha2*x**2) + F.relu(V_difference))\n",
    "\n",
    "        print(i, \"Lyapunov Risk=\",Lyapunov_risk.item()) \n",
    "        L.append(Lyapunov_risk.item())\n",
    "        optimizer.zero_grad()\n",
    "        Lyapunov_risk.backward()\n",
    "        optimizer.step() \n",
    "\n",
    "        # save the weights and biases \n",
    "        V_w1 = model.hidden.weight.data.cpu().numpy()\n",
    "        V_w2 = model.hidden.weight.data.cpu().numpy()\n",
    "\n",
    "        i += 1\n",
    "        # Falsification with SMT solver\n",
    "        if i % 50 == 0:\n",
    "            \n",
    "            # Candidate V\n",
    "            z1 = np.dot(e_,V_w1.T)\n",
    "\n",
    "            a1 = []\n",
    "            for j in range(len(z1)):\n",
    "                a1.append(z1[j]**2)\n",
    "            z2 = np.dot(a1,V_w2)\n",
    "            V_current = z2.item(0)**2\n",
    "\n",
    "            # V Next\n",
    "            z1_n = np.dot(e_next_ex,V_w1.T)\n",
    "\n",
    "            a1_n = []\n",
    "            for j in range(len(z1)):\n",
    "                a1_n.append(z1_n[j]**2)\n",
    "            z2_n = np.dot(a1_n,V_w2)\n",
    "            V_next_ex = z2_n.item(0)**2\n",
    "\n",
    "            print('===========Verifying==========')        \n",
    "            start_ = timeit.default_timer() \n",
    "            # beta = -np.maximum(beta, -0.02) # in case beta is too negative and cannot return any results\n",
    "            result= CheckLyapunov(e_,x_, V_current, V_next_ex, config, beta) # SMT solver\n",
    "            stop_ = timeit.default_timer() \n",
    "\n",
    "            if (result): \n",
    "                print(\"Not a Lyapunov function. Found counterexample: \")\n",
    "                print(result)\n",
    "                x = x.to('cpu')\n",
    "                e = e.to('cpu')\n",
    "                x = AddCounterexamples(x,result,50)\n",
    "                e = AddCounterexamples(e,result,50)\n",
    "            else:  \n",
    "                valid = True\n",
    "                print(\"Satisfy conditions with beta = \", beta)\n",
    "                print(V_current, \" is a Lyapunov function.\")\n",
    "            t += (stop_ - start_)\n",
    "            print('==============================') \n",
    "        \n",
    "\n",
    "    stop = timeit.default_timer()\n",
    "\n",
    "    # np.savetxt(\"w1_dp.txt\", model.layer1.weight.data.cpu(), fmt=\"%s\")\n",
    "    # np.savetxt(\"w2_dp.txt\", model.layer2.weight.data.cpu(), fmt=\"%s\")\n",
    "    # np.savetxt(\"b1_dp.txt\", model.layer1.bias.data.cpu(), fmt=\"%s\")\n",
    "    # np.savetxt(\"b2_dp.txt\", model.layer2.bias.data.cpu(), fmt=\"%s\")\n",
    "\n",
    "    print('\\n')\n",
    "    print(\"Total time: \", stop - start)\n",
    "    print(\"Verified time: \", t)\n",
    "    \n",
    "    out_iters+=1"
   ]
  },
  {
   "cell_type": "code",
   "execution_count": 56,
   "metadata": {},
   "outputs": [
    {
     "name": "stdout",
     "output_type": "stream",
     "text": [
      "pow(( - 0.671188 * pow(( - 0.671188 * e1 + 0.0392232 * e2), 2) - 0.555616 * pow(( - 0.555616 * e1 - 0.365834 * e2), 2) - 0.423322 * pow(( - 0.423322 * e1 + 0.0451749 * e2), 2) - 0.102747 * pow(( - 0.102747 * e1 + 0.402148 * e2), 2) + 0.198142 * pow((0.198142 * e1 - 0.679823 * e2), 2) + 0.31247 * pow((0.31247 * e1 - 0.6843 * e2), 2) + 0.487339 * pow((0.487339 * e1 - 0.118374 * e2), 2) + 0.517278 * pow((0.517278 * e1 + 0.240442 * e2), 2) + 0.58017 * pow((0.58017 * e1 + 0.117523 * e2), 2) + 0.740158 * pow((0.740158 * e1 + 0.1556 * e2), 2)), 2)\n"
     ]
    }
   ],
   "source": [
    "print(V_current)"
   ]
  },
  {
   "cell_type": "markdown",
   "metadata": {
    "id": "hGddjfcDmH4F"
   },
   "source": [
    "### Checking result with bounded beta if needed"
   ]
  },
  {
   "cell_type": "code",
   "execution_count": 57,
   "metadata": {
    "colab": {
     "base_uri": "https://localhost:8080/",
     "height": 240
    },
    "executionInfo": {
     "elapsed": 194,
     "status": "error",
     "timestamp": 1652545276184,
     "user": {
      "displayName": "Zhou Ruikun",
      "userId": "16546965067278251021"
     },
     "user_tz": 240
    },
    "id": "P7LXeTaomH4F",
    "outputId": "cf546027-8e78-452c-aba7-148653b98126"
   },
   "outputs": [
    {
     "name": "stdout",
     "output_type": "stream",
     "text": [
      "Satisfy conditions with beta =  -0.02\n",
      "pow(( - 0.671188 * pow(( - 0.671188 * e1 + 0.0392232 * e2), 2) - 0.555616 * pow(( - 0.555616 * e1 - 0.365834 * e2), 2) - 0.423322 * pow(( - 0.423322 * e1 + 0.0451749 * e2), 2) - 0.102747 * pow(( - 0.102747 * e1 + 0.402148 * e2), 2) + 0.198142 * pow((0.198142 * e1 - 0.679823 * e2), 2) + 0.31247 * pow((0.31247 * e1 - 0.6843 * e2), 2) + 0.487339 * pow((0.487339 * e1 - 0.118374 * e2), 2) + 0.517278 * pow((0.517278 * e1 + 0.240442 * e2), 2) + 0.58017 * pow((0.58017 * e1 + 0.117523 * e2), 2) + 0.740158 * pow((0.740158 * e1 + 0.1556 * e2), 2)), 2)  is a Lyapunov function.\n"
     ]
    }
   ],
   "source": [
    "beta = -0.02\n",
    "start_ = timeit.default_timer() \n",
    "result= CheckLyapunov(e_,x_, V_current, V_next_ex, config, beta) # SMT solver\n",
    "stop_ = timeit.default_timer() \n",
    "\n",
    "if (result): \n",
    "    print(\"Not a Lyapunov function. Found counterexample: \")\n",
    "    print(result)\n",
    "else:  \n",
    "    print(\"Satisfy conditions with beta = \",beta)\n",
    "    print(V_current, \" is a Lyapunov function.\")\n",
    "t += (stop_ - start_)"
   ]
  },
  {
   "cell_type": "code",
   "execution_count": null,
   "metadata": {},
   "outputs": [],
   "source": []
  }
 ],
 "metadata": {
  "accelerator": "GPU",
  "colab": {
   "collapsed_sections": [],
   "name": "Van_der_Pol_final_copy.ipynb",
   "provenance": []
  },
  "kernelspec": {
   "display_name": "base",
   "language": "python",
   "name": "python3"
  },
  "language_info": {
   "codemirror_mode": {
    "name": "ipython",
    "version": 3
   },
   "file_extension": ".py",
   "mimetype": "text/x-python",
   "name": "python",
   "nbconvert_exporter": "python",
   "pygments_lexer": "ipython3",
   "version": "3.8.8"
  }
 },
 "nbformat": 4,
 "nbformat_minor": 0
}
